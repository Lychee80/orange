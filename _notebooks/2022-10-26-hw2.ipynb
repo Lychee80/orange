{
 "cells": [
  {
   "cell_type": "markdown",
   "metadata": {},
   "source": [
    "# Unit 5 HW"
   ]
  },
  {
   "cell_type": "markdown",
   "metadata": {},
   "source": [
    "## 2021 FRQ Parts 1a & 3a"
   ]
  },
  {
   "cell_type": "code",
   "execution_count": null,
   "metadata": {},
   "outputs": [],
   "source": [
    "public class WordMatch {\n",
    "\n",
    "    private String secret;\n",
    "    public WordMatch(String word)  {\n",
    "    }\n",
    "\n",
    "    public int scoreGuess(String guess){\n",
    "    int result = 0;\n",
    "\n",
    "        for (int i = 0; i < secret.length(); i++){\n",
    "            if(secret.substring(i).indexOf(guess) == 0){\n",
    "            result++; \n",
    "        }\n",
    "    }\n",
    "\n",
    "    return result * guess.length() * guess.length();\n",
    "}"
   ]
  },
  {
   "cell_type": "code",
   "execution_count": null,
   "metadata": {},
   "outputs": [],
   "source": [
    "public void addMembers(String[] names, int gradYear ){\n",
    "    \n",
    "    for( String n : names ){\n",
    "        memberList.add(new MemberInfo( n, gradYear, true) );\n",
    "    }\n",
    "}"
   ]
  }
 ],
 "metadata": {
  "kernelspec": {
   "display_name": "Java",
   "language": "java",
   "name": "java"
  },
  "language_info": {
   "name": "java"
  },
  "orig_nbformat": 4
 },
 "nbformat": 4,
 "nbformat_minor": 2
}
