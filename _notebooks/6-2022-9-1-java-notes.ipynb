{
 "cells": [
  {
   "cell_type": "markdown",
   "metadata": {},
   "source": [
    "# Java notes"
   ]
  },
  {
   "cell_type": "markdown",
   "metadata": {},
   "source": [
    "# Primitives vs Non-primitives\n",
    "| primitives |Non-primitives |\n",
    "| ----------- | ----------- |\n",
    "| Predefined| done by you|\n",
    "| lowercase| uppercase|\n",
    "|\"Primitives\"|\"Reference types\"|\n",
    "|cannot call methods|can call methods|\n",
    "|value|can be null|\n",
    "|different sizes based on which primitive it is|all same size|"
   ]
  },
  {
   "cell_type": "markdown",
   "metadata": {},
   "source": [
    "# Variable\n",
    "- Variable names must use camelCase while method names use PascalCase\n",
    "- Variable names are called identifiers\n",
    "- Integers are used in byte,short, int, and long \n",
    "- The amount of digits able to be used is in order from longest to shortest ^\n",
    "- Decimals are used with float and double\n",
    "- Typically for doubles,longs, and floats you need to have d, f, or \"L\" after the value but it works just fine normally without it (except for in floats- floats you need it)\n",
    "- Float vs Double is that float is a lot more specific (less decimal places)\n",
    "- chars also work for ascii values"
   ]
  },
  {
   "cell_type": "code",
   "execution_count": 14,
   "metadata": {},
   "outputs": [
    {
     "name": "stdout",
     "output_type": "stream",
     "text": [
      "20\n",
      "Hello\n",
      "How are you?\n",
      "Will this be on another line? No\n"
     ]
    }
   ],
   "source": [
    "public class Main {\n",
    "    public static void main(String[] args) {\n",
    "      int num; \n",
    "      num=20; //can define the variable later\n",
    "      System.out.println(num);//the num is a parameter so you don't need null (though if you do use null, nothing will show)\n",
    "      System.out.println(\"Hello\");\n",
    "      System.out.println(\"How are you?\");\n",
    "      System.out.print(\"Will this be on another line?\");\n",
    "      //System.out.print won't print the next line on another line unlike System.out.println()\n",
    "      //but the next line \"Hello\" will be on a different line than \"How are you\" but \n",
    "      //\"Will this be on another line\" won't\n",
    "      System.out.println(\" No\");\n",
    "      /* This is a multiline comment \n",
    "      unlike //\n",
    "       */\n",
    "    }\n",
    "}\n",
    "Main.main(null);"
   ]
  },
  {
   "cell_type": "code",
   "execution_count": 44,
   "metadata": {},
   "outputs": [
    {
     "name": "stdout",
     "output_type": "stream",
     "text": [
      "450\n",
      "4.99\n",
      "redtriangle\n",
      "450\n",
      "redtriangle\n"
     ]
    }
   ],
   "source": [
    "public class Main {\n",
    "    public static void main(String[] args) {\n",
    "      int p = 15;\n",
    "      int m = 30; //will overwrite the existing value\n",
    "      final int z = p * m; //final makes it so it is impossible to overwrite\n",
    "      System.out.println(z);\n",
    "      char letter = 'M'; //char is for a single letter and needs to be in single quotes\n",
    "      float check= 4.99f; \n",
    "      System.out.println(check);\n",
    "      String color = \"red\";  \n",
    "      String shape = \"triangle\"; \n",
    "      String description = color + shape;\n",
    "      System.out.println(description);\n",
    "      System.out.println(p*m);// can do this or define for another value ex z\n",
    "      System.out.println(color.concat(shape));//concatenation\n",
    "\n",
    "    }\n",
    "}\n",
    "Main.main(null);"
   ]
  },
  {
   "cell_type": "code",
   "execution_count": 34,
   "metadata": {},
   "outputs": [
    {
     "name": "stdout",
     "output_type": "stream",
     "text": [
      "3.2\n",
      "8800.0\n",
      "Y\n",
      "Z\n"
     ]
    }
   ],
   "source": [
    "public class Main {\n",
    "    public static void main(String[] args) {\n",
    "        double a=3.2, b=2.0, c=9.444; //can define all together too\n",
    "        double e, f; \n",
    "        e=f=0.88e4; // can define them together too, e4 or E4 means .88 x 10^4\n",
    "        System.out.println(a);\n",
    "        System.out.println(e);\n",
    "        char ascii= 89, x=90; \n",
    "        System.out.println(ascii);\n",
    "        System.out.println(x);\n",
    "    }\n",
    "}\n",
    "Main.main(null);"
   ]
  },
  {
   "cell_type": "markdown",
   "metadata": {},
   "source": [
    "# Casting\n",
    "- widening (automatic) short to large type byte to short to char to int to long to float to double \n",
    "- narrowing (manual, need to declare) opposite ^\n",
    "\n",
    "- null means that there is no parameter but we are acknowledging that there is \n"
   ]
  },
  {
   "cell_type": "code",
   "execution_count": 6,
   "metadata": {},
   "outputs": [
    {
     "name": "stdout",
     "output_type": "stream",
     "text": [
      "9\n",
      "to\n",
      "9.0\n",
      "\n",
      "9.22\n",
      "to\n",
      "9\n"
     ]
    }
   ],
   "source": [
    "public class Main {\n",
    "    public static void main(String[] args){\n",
    "        int shallot = 9;\n",
    "        double shallots=shallot; //casting widening (changing from 9 --> 9.0)\n",
    "        System.out.println(shallot);\n",
    "        System.out.println(\"to\");\n",
    "        System.out.println(shallots + \"\\n\");\n",
    "        double cups=9.22;\n",
    "        int cup = (int)cups;//casting narrowing (changing from 9.22--> 9)\n",
    "        System.out.println(cups);\n",
    "        System.out.println(\"to\");\n",
    "        System.out.println(cup);\n",
    "        \n",
    "\n",
    "    }\n",
    "}\n",
    "Main.main(null)"
   ]
  },
  {
   "cell_type": "markdown",
   "metadata": {},
   "source": [
    "# Operators\n",
    "- addition, subtraction, multiplication, division, modulus, increment, decrement (+, -, *, /, %, ++, --)\n",
    "- Assignment operators: =, +=, -=, *=, /=, %=, &="
   ]
  },
  {
   "cell_type": "markdown",
   "metadata": {},
   "source": [
    "# Switches\n",
    "switch(expression) {\n",
    "  case x:\n",
    "    // code block\n",
    "    break;\n",
    "  case y:\n",
    "    // code block\n",
    "    break;\n",
    "  default:\n",
    "    // code block\n",
    "}"
   ]
  },
  {
   "cell_type": "markdown",
   "metadata": {},
   "source": [
    "# Strings\n",
    "- if you add strings --> concatenation\n",
    "- if you add numbers --> number \n",
    "- In a string you can use \\' to make '\n",
    "- \\\" to make \"\n",
    "- \\ \\ to make \\\n",
    "- \\n for a new line"
   ]
  },
  {
   "cell_type": "code",
   "execution_count": null,
   "metadata": {},
   "outputs": [],
   "source": [
    " public class Check {\n",
    "    public static void \n",
    " }\n",
    " Check.main(null);"
   ]
  },
  {
   "cell_type": "markdown",
   "metadata": {},
   "source": [
    " # Code.org\n",
    "- to insubstantiate do : ClassName objectName = new ClassName();\n",
    "- syntax for inheritence is \n",
    "public class Subclass extends SuperClass {\n",
    "\n",
    "   public Subclass() {\n",
    "      super();\n",
    "   }\n",
    "}\n",
    "\n",
    "- Method Signature is name of method and parameter \n",
    "- void function means that it will do the code then stop \n",
    "- sub class is the child of the parent (super)"
   ]
  }
 ],
 "metadata": {
  "kernelspec": {
   "display_name": "Java",
   "language": "java",
   "name": "java"
  },
  "language_info": {
   "codemirror_mode": "java",
   "file_extension": ".jshell",
   "mimetype": "text/x-java-source",
   "name": "java",
   "pygments_lexer": "java",
   "version": "18.0.2+0"
  },
  "orig_nbformat": 4,
  "vscode": {
   "interpreter": {
    "hash": "aee8b7b246df8f9039afb4144a1f6fd8d2ca17a180786b69acc140d282b71a49"
   }
  }
 },
 "nbformat": 4,
 "nbformat_minor": 2
}
