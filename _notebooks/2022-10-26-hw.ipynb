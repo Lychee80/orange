{
 "cells": [
  {
   "cell_type": "markdown",
   "metadata": {},
   "source": [
    "# Unit 3 HW"
   ]
  },
  {
   "cell_type": "markdown",
   "metadata": {},
   "source": [
    "## Notes"
   ]
  },
  {
   "cell_type": "markdown",
   "metadata": {},
   "source": [
    "- Unit 3 makes up ~ 15% of the ap exam\n",
    "- if statements will run if the conditional statement is true\n",
    "- if- else will have a statement that will run if the conditional statement is true\n",
    "- if-else-if will extend the else statement to run if the previous conditional statement is false and the new one is true\n",
    "- They can be quite helpful for user input\n",
    "- Switch statement are a bit more efficient \n",
    "- Boolean expressions can either be true or false\n",
    "- == is for comparing unlike = which is assignment \n",
    "- != is for inequality\n",
    "- || is the or operator and && is the and operator\n",
    "- Logic gates: buffer- output=input, Not- output is the opposite, And- true is inputs were both true, NAND the opposite of and, or - true if at least one is true, NOR - the opposite, XOR- true if the inputs are different, XNOR the opposite\n",
    "- De morgans law is essentially distributive property but with ! operator\n",
    "- U is the union system (or ), ∩ is And (intersection of sets symbol), ' is not\n",
    "- Truth tables show all possible values \n"
   ]
  },
  {
   "cell_type": "markdown",
   "metadata": {},
   "source": [
    "## 2009 FRQ 3b\n",
    "## 2017 FRQ 1b\n",
    "## 2019 FRQ 3b"
   ]
  },
  {
   "cell_type": "code",
   "execution_count": null,
   "metadata": {},
   "outputs": [],
   "source": [
    " public int getChargeStartTime(int chargeTime){\n",
    "    int startTime = 0;\n",
    "    for (int i = 1; i < 24; i++){\n",
    "      if (this.getChargingCost(i, chargeTime)< this.getChargingCost(startTime, chargeTime)){\n",
    "        startTime = i;\n",
    "      } \n",
    "    }\n",
    "   return startTime;\n",
    " }\n"
   ]
  },
  {
   "cell_type": "code",
   "execution_count": null,
   "metadata": {},
   "outputs": [],
   "source": [
    "public boolean isStrictlyIncreasing(){\n",
    "     for (int i = 0; i < digitList.size()-1; i++) {\n",
    "          if (digitList.get(i).intValue() >= digitList.get(i+1).intValue()){ \n",
    "               return false; \n",
    "          }\n",
    "     }\n",
    "     return true;\n",
    "}"
   ]
  },
  {
   "cell_type": "code",
   "execution_count": null,
   "metadata": {},
   "outputs": [],
   "source": [
    "public boolean isBalanced(ArrayList<String> delimiters) {\n",
    "\tint openDels = 0;\n",
    "\tint closeDels = 0;\n",
    "\t\n",
    "\tfor (String del : delimiters) {\n",
    "\t\tif (del.equals(openDel)) {\n",
    "\t\t\topenDels++;\n",
    "\t\t} else {\n",
    "\t\t\tcloseDels++;\n",
    "\t\t}\n",
    "\t\t\n",
    "\t\tif (closeDels > openDels) {\n",
    "\t\t\treturn false;\n",
    "\t\t}\n",
    "\t}\n",
    "\t\n",
    "\treturn openDels == closeDels;\n",
    "}"
   ]
  }
 ],
 "metadata": {
  "kernelspec": {
   "display_name": "Java",
   "language": "java",
   "name": "java"
  },
  "language_info": {
   "name": "java"
  },
  "orig_nbformat": 4
 },
 "nbformat": 4,
 "nbformat_minor": 2
}
