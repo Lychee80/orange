{
 "cells": [
  {
   "cell_type": "code",
   "execution_count": null,
   "metadata": {},
   "outputs": [],
   "source": [
    "import java.util.Scanner;\n",
    "\n",
    "public class Checker \n",
    "{\n",
    "    public static void main(String[] args) \n",
    "    {\n",
    "        int number;  \n",
    "\t\n",
    "        // Create a Scanner object for keyboard input.  \n",
    "        Scanner keyboard = new Scanner(System.in);  \n",
    "             \n",
    "        // Get a number from the user.  \n",
    "        System.out.print(\"Enter a number in the range of 1 through 100: \");  \n",
    "        number = keyboard.nextInt();  \n",
    "\n",
    "        while (1<number<100)\n",
    "        {  \n",
    "           System.out.print(\"Invalid input. Enter a number in the range \" +  \n",
    "                            \"of 1 through 100: \");  \n",
    "           number = keyboard.nextInt();  \n",
    "        } \n",
    "    }\n",
    "}\n"
   ]
  },
  {
   "cell_type": "code",
   "execution_count": null,
   "metadata": {},
   "outputs": [],
   "source": [
    "public class LoopConversion \n",
    "{\n",
    "    public static void main(String[] args) \n",
    "    {\n",
    "        //convert to for loop\n",
    "        for(int count=0; count < 5; count++)\n",
    "        {\n",
    "            System.out.println(\"count is \" + count);\n",
    "        }\n",
    "    }\n",
    "}\n",
    "\n",
    "LoopConversion.main(null);"
   ]
  },
  {
   "cell_type": "code",
   "execution_count": null,
   "metadata": {},
   "outputs": [],
   "source": [
    "public class Clock  \n",
    "{  \n",
    "    public static void main(String[] args)  \n",
    "    {  \n",
    "        for(int hours = 1; hours <= 12; hours++)  \n",
    "        {  \n",
    "            for (int minutes = 0; minutes <= 59; minutes++)  \n",
    "            {  \n",
    "                for (int seconds = 0; seconds <= 59; seconds++) \n",
    "                {  \n",
    "                    System.out.printf(\"%02d:%02d:%02d\\n\", hours, minutes, seconds); \n",
    "                } \n",
    "            } \n",
    "        } \n",
    "    } \n",
    "}\n",
    "Clock.main(null);"
   ]
  },
  {
   "cell_type": "code",
   "execution_count": 7,
   "metadata": {},
   "outputs": [
    {
     "name": "stdout",
     "output_type": "stream",
     "text": [
      "0\n",
      "1\n",
      "2\n",
      "3\n",
      "4\n"
     ]
    }
   ],
   "source": [
    "public class Main {\n",
    "    public static void main(String[] args){\n",
    "        int i=0; \n",
    "\n",
    "        while(i<5){\n",
    "            System.out.println(i);\n",
    "            i++;\n",
    "    }\n",
    "    \n",
    "    }\n",
    "}\n",
    "Main.main(null);"
   ]
  },
  {
   "cell_type": "code",
   "execution_count": 9,
   "metadata": {},
   "outputs": [
    {
     "name": "stdout",
     "output_type": "stream",
     "text": [
      "0\n",
      "1\n",
      "2\n",
      "3\n",
      "4\n"
     ]
    }
   ],
   "source": [
    "public class Main{\n",
    "    public static void main(String[] args){\n",
    "        for(int i=0; i<5; i++){\n",
    "            System.out.println(i);\n",
    "        }\n",
    "    }\n",
    "    \n",
    "}\n",
    "Main.main(null);"
   ]
  },
  {
   "cell_type": "code",
   "execution_count": null,
   "metadata": {},
   "outputs": [],
   "source": [
    "public class Main{\n",
    "\n",
    "    public static void main(String[] args){\n",
    "        for(int i=0; i<5; i++){\n",
    "            System.out.println(i);\n",
    "        }\n",
    "    }\n",
    "    \n",
    "    public static int\n",
    "    \n",
    "}\n",
    "Main.main(null);"
   ]
  }
 ],
 "metadata": {
  "kernelspec": {
   "display_name": "Java",
   "language": "java",
   "name": "java"
  },
  "language_info": {
   "codemirror_mode": "java",
   "file_extension": ".jshell",
   "mimetype": "text/x-java-source",
   "name": "java",
   "pygments_lexer": "java",
   "version": "18.0.2+0"
  },
  "orig_nbformat": 4
 },
 "nbformat": 4,
 "nbformat_minor": 2
}
