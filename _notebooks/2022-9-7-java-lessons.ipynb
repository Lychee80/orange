{
 "cells": [
  {
   "cell_type": "markdown",
   "metadata": {},
   "source": [
    "# Java Lesson"
   ]
  },
  {
   "cell_type": "markdown",
   "metadata": {},
   "source": [
    "Resources: W3 schools (java) "
   ]
  },
  {
   "cell_type": "markdown",
   "metadata": {},
   "source": [
    "## If-Else statements\n",
    "- if is used to say that if a condition is true then execute the code\n",
    "- else is to say that execute this code if the condition is false\n",
    "- else if is to make a new condition if the condition for the first if is false\n",
    "- Ifs can use several conditions such as: less than (<), less than or equal to (<=), greater than (>), greater than or equal to (>=), equal to (==), not equal (!=)\n"
   ]
  },
  {
   "cell_type": "markdown",
   "metadata": {},
   "source": [
    "### if statement"
   ]
  },
  {
   "cell_type": "code",
   "execution_count": 15,
   "metadata": {},
   "outputs": [
    {
     "name": "stdout",
     "output_type": "stream",
     "text": [
      "Book reviews from 1-10 stars\n",
      "This is a bad book\n"
     ]
    }
   ],
   "source": [
    "class Main {\n",
    "    public static void main(String[] args) {\n",
    "      System.out.println(\"Book reviews from 1-10 stars\");\n",
    "      int review;\n",
    "      review =1;\n",
    "      if(review ==1){ // if the review is one star, which it is, it will output that this is a bad book\n",
    "      System.out.println(\"This is a bad book\");\n",
    "      } \n",
    "    }\n",
    "  \n",
    "  }\n",
    "  Main.main(null);"
   ]
  },
  {
   "cell_type": "markdown",
   "metadata": {},
   "source": [
    "### if-else statement"
   ]
  },
  {
   "cell_type": "code",
   "execution_count": 16,
   "metadata": {},
   "outputs": [
    {
     "name": "stdout",
     "output_type": "stream",
     "text": [
      "Book reviews from 1-10 stars\n",
      "This is a good book\n"
     ]
    }
   ],
   "source": [
    "class Main {\n",
    "  public static void main(String[] args) {\n",
    "    System.out.println(\"Book reviews from 1-10 stars\");\n",
    "    int review;\n",
    "    review =8;\n",
    "    \n",
    "    if(review > 7 ){ //if the review is greater than seven stars, then this is a good book\n",
    "    System.out.println(\"This is a good book\");\n",
    "    } else { //if the review is less than seven stars then it is a not so good book\n",
    "        System.out.println(\"This is a not so good book\");\n",
    "    } \n",
    "  }\n",
    "\n",
    "}\n",
    "Main.main(null);"
   ]
  },
  {
   "cell_type": "markdown",
   "metadata": {},
   "source": [
    "### if else-if else statement"
   ]
  },
  {
   "cell_type": "code",
   "execution_count": 17,
   "metadata": {},
   "outputs": [
    {
     "name": "stdout",
     "output_type": "stream",
     "text": [
      "Book reviews from 1-10 stars\n",
      "This is a good book\n"
     ]
    }
   ],
   "source": [
    "class Main {\n",
    "    public static void main(String[] args) {\n",
    "      System.out.println(\"Book reviews from 1-10 stars\");\n",
    "      int review;\n",
    "      review =8;\n",
    "      \n",
    "      if(review > 7 ){ //if the review is greater than seven stars, then this is a good book\n",
    "      System.out.println(\"This is a good book\");\n",
    "      } else if (review>4) { //if the review is between four and seven stars, then it is an ok book\n",
    "          System.out.println(\"This is an ok book\");\n",
    "      } else { // if the review is below four stars then it is a bad book\n",
    "        System.out.println(\"This is a bad book\");\n",
    "      }\n",
    "    }\n",
    "  \n",
    "  }\n",
    "  Main.main(null);"
   ]
  },
  {
   "cell_type": "markdown",
   "metadata": {},
   "source": [
    "### if-else statements with five conditions"
   ]
  },
  {
   "cell_type": "code",
   "execution_count": 8,
   "metadata": {},
   "outputs": [
    {
     "name": "stdout",
     "output_type": "stream",
     "text": [
      "Input age\n",
      "You are a teenager\n"
     ]
    }
   ],
   "source": [
    "import java.util.Scanner;\n",
    "\n",
    "class Main {\n",
    "  public static void main(String[] args) {\n",
    "    System.out.println(\"Input age\"); // Asks the user to input their age\n",
    "   \n",
    "    Scanner age = new Scanner(System.in); // Makes a new scanner named age (insubstantiates object)\n",
    "    int option =age.nextInt(); // Will take in the value that the user inputs and declares it an integer called option\n",
    "    \n",
    "    if(option==16){ //if the user is specifically 16 years old, output \"You can drive!\"\n",
    "    System.out.println(\"You can drive!\");\n",
    "    } else if (option==21){//if the user is specifically 21 years old, output \"You can drink!\"\n",
    "    System.out.println(\"You can drink!\");\n",
    "    } else if (option== 18 ){//if the user is specifically 18 years old, output \"You can vote!\"\n",
    "    System.out.println(\"You can vote!\");\n",
    "    } else if (option>= 18){//if the user is older than 18 years old, output \"You are an adult\"\n",
    "        System.out.println(\"You are an adult\");\n",
    "    } else if (option<=13){//if the user is younger than 13 years old, output \"You are a child\"\n",
    "        System.out.println(\"You are a child!\");\n",
    "    } else { //if the user is between 13 years old and 18 years old, output \"You are a teenager\"\n",
    "        System.out.println(\"You are a teenager\");\n",
    "    } \n",
    "  }\n",
    "\n",
    "}\n",
    "Main.main(null);"
   ]
  },
  {
   "cell_type": "markdown",
   "metadata": {},
   "source": [
    "## Switch Statements\n",
    "- Describes several cases to execute if they match the condition\n",
    "- always requires a break after each case to stop \n",
    "- default is sort of like the else in if-else where if all conditions are false then do this"
   ]
  },
  {
   "cell_type": "code",
   "execution_count": 20,
   "metadata": {},
   "outputs": [
    {
     "name": "stdout",
     "output_type": "stream",
     "text": [
      "This is a bad book\n"
     ]
    }
   ],
   "source": [
    "import java.util.Scanner;\n",
    "class Main {\n",
    "  public static void main(String[] args) {\n",
    "    Scanner object = new Scanner(System.in); // Makes a new scanner named object (insubstantiates object)\n",
    "    int condition =object.nextInt(); // Will take in the value that the user inputs and declares it an integer called condition\n",
    "    switch(condition) {\n",
    "        case 1:  //if the review is one star, then this is a bad book\n",
    "        System.out.println(\"This is a bad book\");\n",
    "        break;\n",
    "        case 2:  //if the review is two stars, then this is a bad book\n",
    "        System.out.println(\"This is a bad book\");\n",
    "        break;\n",
    "        case 3:  //if the review is three stars, then this is a bad book\n",
    "        System.out.println(\"This is a bad book\");\n",
    "        break;\n",
    "        case 4:  //if the review is four stars, then this is a bad book\n",
    "        System.out.println(\"This is a bad book\");\n",
    "        break;\n",
    "        case 5: //if the review is five stars, then this is an ok book\n",
    "         System.out.println(\"This is an ok book\");\n",
    "        break;\n",
    "        case 6: //if the review is six stars, then this is an ok book\n",
    "         System.out.println(\"This is an ok book\");\n",
    "        break;\n",
    "        case 7: //if the review is seven stars, then this is an ok book\n",
    "         System.out.println(\"This is an ok book\");\n",
    "        break;\n",
    "        case 8: //if the review is eight stars, then this is a great book\n",
    "         System.out.println(\"This is a great book\");\n",
    "        break;\n",
    "        case 9: //if the review is nine stars, then this is a great book\n",
    "         System.out.println(\"This is a great book\");\n",
    "        break;\n",
    "        case 10:  //if the review is ten stars, then this is a great book\n",
    "        System.out.println(\"This is a great book\");\n",
    "        break;\n",
    "        default://if the review is not in a range of 1-10 then prompt the user to retype in that range\n",
    "        System.out.println(\"Choose in a range between 1-10\");\n",
    "\n",
    "\n",
    "    }\n",
    "  }\n",
    "\n",
    "}\n",
    "Main.main(null);"
   ]
  },
  {
   "cell_type": "markdown",
   "metadata": {},
   "source": [
    "## De Morgan's law\n",
    "- a law of negation\n",
    "- like the math distributive property, you will negate each part of a statement\n",
    "- use of operators like && for And and || for or as well as ! for not\n",
    "- && means both conditions must be true to be true\n",
    "- || means only one of the conditions needs to be true to output true\n",
    "- ! means that this condition is false"
   ]
  },
  {
   "cell_type": "code",
   "execution_count": 21,
   "metadata": {},
   "outputs": [
    {
     "name": "stdout",
     "output_type": "stream",
     "text": [
      "false\n",
      "true\n",
      "false\n",
      "true\n",
      "true\n",
      "false\n"
     ]
    }
   ],
   "source": [
    "class Main {\n",
    "    public static void main(String[] args) {\n",
    "     Boolean review= false; // No review was made\n",
    "     Boolean book = true; // The book was read though\n",
    "     System.out.println(review); //will give out a value of false (the value of review)\n",
    "     System.out.println(book); //will give out a value of true (the value of book)\n",
    "     System.out.println(review && book);// will give a value of false since review is false so review and book are not both true\n",
    "     System.out.println(review || book);//will give true since book is true so it satisfies the condition of the or operator\n",
    "     System.out.println(!(review && book));//will give true since what is being evaluated is (true || false)\n",
    "     System.out.println(!(review || book));//will give false since what is being evaluated is (true && false)\n",
    "    }\n",
    "  \n",
    "  }\n",
    "  Main.main(null);"
   ]
  }
 ],
 "metadata": {
  "kernelspec": {
   "display_name": "Java",
   "language": "java",
   "name": "java"
  },
  "language_info": {
   "codemirror_mode": "java",
   "file_extension": ".jshell",
   "mimetype": "text/x-java-source",
   "name": "java",
   "pygments_lexer": "java",
   "version": "18.0.2+0"
  },
  "orig_nbformat": 4
 },
 "nbformat": 4,
 "nbformat_minor": 2
}
