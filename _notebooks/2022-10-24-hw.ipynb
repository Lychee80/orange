{
 "cells": [
  {
   "cell_type": "markdown",
   "metadata": {},
   "source": [
    "Iteration HW Unit 4"
   ]
  },
  {
   "cell_type": "code",
   "execution_count": 8,
   "metadata": {
    "vscode": {
     "languageId": "java"
    }
   },
   "outputs": [
    {
     "name": "stdout",
     "output_type": "stream",
     "text": [
      "Guess a number! 94\n",
      "Too High! Try again\n",
      " Too low! Try again\n",
      "You got it! The answer is 94\n"
     ]
    }
   ],
   "source": [
    "import java.util.Scanner;\n",
    "\n",
    "class Console {\n",
    "  public static void main(String[] args) {\n",
    "    int num = (int)(Math.random() * 101);\n",
    "    System.out.println(\"Guess a number! \" + num);\n",
    "    Scanner object = new Scanner(System.in);\n",
    "  \n",
    "    while( object.nextInt() != num){\n",
    "      int test = object.nextInt();\n",
    "        if(test<num){\n",
    "            System.out.println(\" Too low! Try again\");\n",
    "          } else if (test>num){\n",
    "            System.out.println(\"Too High! Try again\");\n",
    "          } \n",
    "          \n",
    "    }\n",
    "    System.out.println(\"You got it! The answer is \" + num);\n",
    "}\n",
    "  }\n",
    "\n",
    "Console.main(null);"
   ]
  }
 ],
 "metadata": {
  "kernelspec": {
   "display_name": "Java",
   "language": "java",
   "name": "java"
  },
  "language_info": {
   "codemirror_mode": "java",
   "file_extension": ".jshell",
   "mimetype": "text/x-java-source",
   "name": "Java",
   "pygments_lexer": "java",
   "version": "18.0.2+0"
  },
  "orig_nbformat": 4
 },
 "nbformat": 4,
 "nbformat_minor": 2
}
