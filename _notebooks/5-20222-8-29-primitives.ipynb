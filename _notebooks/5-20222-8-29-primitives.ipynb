{
 "cells": [
  {
   "cell_type": "markdown",
   "metadata": {},
   "source": [
    "# Primitives\n"
   ]
  },
  {
   "cell_type": "markdown",
   "metadata": {},
   "source": [
    "1. Every program needs at least one class whose name matches the file name (ex myFirstProgram.java)\n",
    "2. There are eight primitive types (byte, short, boolean, int, double, char, float, long)"
   ]
  },
  {
   "cell_type": "code",
   "execution_count": 3,
   "metadata": {},
   "outputs": [
    {
     "name": "stdout",
     "output_type": "stream",
     "text": [
      "Hello I am 10 years old\n",
      "108.0\n",
      "1.08\n",
      "0.8000000000000007\n",
      "11.8\n"
     ]
    }
   ],
   "source": [
    "public class HelloStatic {\n",
    "    public static void main(String[] args){\n",
    "        int x = 10; //an integer value\n",
    "        double y= 10.8; //a double aka a decimal value\n",
    "        System.out.println(\"Hello I am \" + x + \" years old\");\n",
    "        System.out.println(y*x);//makes 10 multiplied by 10.8 (or x times y)\n",
    "        System.out.println(y/x);//makes 10 divided by 10.8 (or x divided by y)\n",
    "        System.out.println(y%x);//makes 10 divided by 10.8 and takes the remainder\n",
    "        System.out.println(y+1);//adds one to y\n",
    "\n",
    "\n",
    "    }\n",
    "}\n",
    "\n",
    "HelloStatic.main(null);\n"
   ]
  },
  {
   "cell_type": "markdown",
   "metadata": {},
   "source": [
    "1. A char is basically just any character \n",
    "2. Boolean gives out a true or false answer\n",
    "3. int is an integer \n",
    "4. double is a decimal value \n",
    "5. A string is not a primitive"
   ]
  },
  {
   "cell_type": "markdown",
   "metadata": {},
   "source": [
    "## Code.org\n",
    "1. all classes have to be named with each word in the class name being capitalized (pascal case)\n",
    "2. object is a variable that defines the type of value when called \n",
    "3. class \"blueprint\" to make objects\n",
    "4. parameter is a value for a method or constructor \n",
    "5. argument is a class instance \n",
    "6.  an if loop can be used to see if the painter needs to continue moving \n",
    "7. constructor is named after the class and is the instructions to make a new object \n",
    "8. to instantiate an object go ClassName objectName = new ClassName();\n",
    "9. to call an object do objectname.action(); \n",
    "10. void method does the action but gives back no value"
   ]
  }
 ],
 "metadata": {
  "kernelspec": {
   "display_name": "Java",
   "language": "java",
   "name": "java"
  },
  "language_info": {
   "codemirror_mode": "java",
   "file_extension": ".jshell",
   "mimetype": "text/x-java-source",
   "name": "java",
   "pygments_lexer": "java",
   "version": "18.0.2+0"
  },
  "orig_nbformat": 4,
  "vscode": {
   "interpreter": {
    "hash": "2a44d7eef9b187025524569ddf3a2a1a27be470d56a25dee2472e0cae8ca170e"
   }
  }
 },
 "nbformat": 4,
 "nbformat_minor": 2
}
